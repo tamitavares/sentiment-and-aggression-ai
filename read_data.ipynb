{
 "cells": [
  {
   "cell_type": "markdown",
   "metadata": {},
   "source": [
    "Extract data about \"Sport\" and \"Politicians\" from X "
   ]
  },
  {
   "cell_type": "code",
   "execution_count": 2,
   "metadata": {},
   "outputs": [],
   "source": [
    "from imports import *\n",
    "from config import *\n",
    "from functions import *"
   ]
  },
  {
   "cell_type": "code",
   "execution_count": 6,
   "metadata": {},
   "outputs": [],
   "source": [
    "df_tweets_futebol = pd.read_csv('df_tweets_futebol.csv')"
   ]
  },
  {
   "cell_type": "code",
   "execution_count": 7,
   "metadata": {},
   "outputs": [
    {
     "name": "stdout",
     "output_type": "stream",
     "text": [
      "            Tipo                                              Texto\n",
      "0      Principal       podia ter passado pro mbappé que tava livre.\n",
      "1    Relacionado                                        Falou tudo.\n",
      "2    Relacionado                                   Melhor do mundo!\n",
      "3    Relacionado                             Vocês? Hahahah….piada…\n",
      "4    Relacionado                                        Subestimado\n",
      "..           ...                                                ...\n",
      "180  Relacionado  O cara fazia com uma maçã o que muitos jogador...\n",
      "181  Relacionado  O segundo gol do Rodrigo Garro no jogo de onte...\n",
      "182  Relacionado                         5 minutos de Zico jogando \n",
      "183  Relacionado                                                 A \n",
      "184  Relacionado                   Vasco x Manchester United, 2000.\n",
      "\n",
      "[185 rows x 2 columns]\n"
     ]
    }
   ],
   "source": [
    "print(df_tweets_futebol)"
   ]
  },
  {
   "cell_type": "code",
   "execution_count": 8,
   "metadata": {},
   "outputs": [],
   "source": [
    "df_tweets_futebol_principal = df_tweets_futebol[df_tweets_futebol['Tipo'] == \"Principal\"]"
   ]
  },
  {
   "cell_type": "code",
   "execution_count": 10,
   "metadata": {},
   "outputs": [
    {
     "data": {
      "text/plain": [
       "Tipo     13\n",
       "Texto    13\n",
       "dtype: int64"
      ]
     },
     "execution_count": 10,
     "metadata": {},
     "output_type": "execute_result"
    }
   ],
   "source": [
    "df_tweets_futebol_principal.count()"
   ]
  }
 ],
 "metadata": {
  "kernelspec": {
   "display_name": ".venv",
   "language": "python",
   "name": "python3"
  },
  "language_info": {
   "codemirror_mode": {
    "name": "ipython",
    "version": 3
   },
   "file_extension": ".py",
   "mimetype": "text/x-python",
   "name": "python",
   "nbconvert_exporter": "python",
   "pygments_lexer": "ipython3",
   "version": "3.11.9"
  }
 },
 "nbformat": 4,
 "nbformat_minor": 2
}
