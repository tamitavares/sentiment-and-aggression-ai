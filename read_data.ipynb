{
 "cells": [
  {
   "cell_type": "markdown",
   "metadata": {},
   "source": [
    "Extract data about \"Sport\" and \"Politicians\" from X "
   ]
  },
  {
   "cell_type": "code",
   "execution_count": 5,
   "metadata": {},
   "outputs": [],
   "source": [
    "from imports import *\n",
    "from config import *\n",
    "from functions import *"
   ]
  },
  {
   "cell_type": "code",
   "execution_count": 6,
   "metadata": {},
   "outputs": [],
   "source": [
    "dt_twitter = pd.read_csv('tweets.csv')"
   ]
  },
  {
   "cell_type": "code",
   "execution_count": 7,
   "metadata": {},
   "outputs": [
    {
     "name": "stdout",
     "output_type": "stream",
     "text": [
      "           Tipo                                              Texto\n",
      "0     Principal                                              Kaká \n",
      "1   Relacionado                       Cara de quem não jogava nada\n",
      "2   Relacionado                            Kaká foi craque demais.\n",
      "3   Relacionado                                  Boa tarde a todos\n",
      "4   Relacionado            Eu vivo atrás dessa camisa pra comprar \n",
      "5   Relacionado                                     Era monstrooo \n",
      "6   Relacionado                                             الانيق\n",
      "7   Relacionado  سبحان الله \\r\\nوالحمدلله \\r\\nولا اله الا الله ...\n",
      "8   Relacionado  He is still tormenting Evra and Heinze plus Ma...\n",
      "9   Relacionado                                یا خداوندگار فوتبال\n",
      "10    Principal                                              1970 \n",
      "11  Relacionado              Não era uma seleção, era uma alegria.\n",
      "12  Relacionado  A roubada de bola do Tostão lá na defesa e pou...\n",
      "13  Relacionado                          Now this makes more sense\n",
      "14  Relacionado  O ritmo de jogo é identico aquelas peladas de ...\n",
      "15  Relacionado  Se tivessem ensaiado, não seria perfeito. A Se...\n",
      "16  Relacionado  Enzos largando o playstation de lado pra falar...\n",
      "17  Relacionado                O tapa que o Pelé da na bola, bixo.\n",
      "18  Relacionado  Um dos maiores,\\r\\nou talvez o maior chute TIV...\n",
      "19  Relacionado  A perfeição no futebol já existiu e foi a sele...\n",
      "20  Relacionado  When I was a young footballer at a Tottenham H...\n",
      "21    Principal                    Romário em um momento de lazer.\n",
      "22  Relacionado  Dizem q até minha mãe o Romário comeu quando p...\n",
      "23  Relacionado                          Quê isso cara kkkkkkkkkkk\n",
      "24  Relacionado  A diferença é que Romário bancava a vida dele ...\n",
      "25  Relacionado  O cara saiu do Brasil falando que se não ganha...\n",
      "26  Relacionado                             eu vivia assim em 2022\n",
      "27  Relacionado                                             Kkkkkk\n",
      "28  Relacionado                        Ele era casado? Pgt sincera\n",
      "29  Relacionado  Romário assumia os BOs dele, não era cuzao com...\n",
      "30  Relacionado                                    também Romário:\n",
      "31  Relacionado  Não da pra comparar... Romário fazia isso, che...\n",
      "32  Relacionado  A diferença é que no dia seguinte ele ia pro j...\n",
      "33  Relacionado  Pelo menos Romário resolvia dentro de campo e ...\n",
      "34  Relacionado  \"Se o Brasil não ganhar a Copa, pode me cobrar...\n",
      "35    Principal  YUUUUUUUUUUUURI ALBERTOOOOOOOOOO!\\r\\nGOOOOOOOO...\n",
      "36  Relacionado   Ja ja aparece um penalti misterioso pro Verdinho\n",
      "37  Relacionado                                   Vai Corinthians!\n",
      "38  Relacionado  Sem pênalti roubado os sem mundial não consegu...\n",
      "39  Relacionado          NÃO TEM 9 MELHOR QUE ELE NO BRASIL, PORRA\n",
      "40  Relacionado                          o 9 mais GELADO do brasil\n",
      "41  Relacionado                        Sem juiz , sem gol kkkkkkkk\n",
      "42    Principal  e o jogador da jacuipense que foi expulso por ...\n",
      "43  Relacionado  O cara leva um peteleco e cai parecendo que le...\n",
      "44  Relacionado  \"Você vence campeonato com jogador ruim, mas n...\n",
      "45  Relacionado  VOCÊS SÃO CLUBISTA, AQUI TA A EVIDÊNCIA DOS FATOS\n",
      "46  Relacionado                                     KKKKKKKKK VTNC\n",
      "47  Relacionado  Imagina o árbitro vendo isso no VAR kkkkkkkkkk...\n",
      "48  Relacionado  Nota 10 para Nestor que caiu por causa de um p...\n",
      "49  Relacionado  Essa expulsão tava escrita desde o jogo de ida...\n",
      "50  Relacionado                              x.com/leirodoinfo/st…\n",
      "51  Relacionado         Nao pode fazer mais nada no futebol também\n",
      "52  Relacionado  E detalhe data, a Jacuipense tinha um pênalti ...\n"
     ]
    }
   ],
   "source": [
    "print(dt_twitter)"
   ]
  }
 ],
 "metadata": {
  "kernelspec": {
   "display_name": "base",
   "language": "python",
   "name": "python3"
  },
  "language_info": {
   "codemirror_mode": {
    "name": "ipython",
    "version": 3
   },
   "file_extension": ".py",
   "mimetype": "text/x-python",
   "name": "python",
   "nbconvert_exporter": "python",
   "pygments_lexer": "ipython3",
   "version": "3.12.4"
  }
 },
 "nbformat": 4,
 "nbformat_minor": 2
}
