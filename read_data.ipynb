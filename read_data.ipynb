{
 "cells": [
  {
   "cell_type": "markdown",
   "metadata": {},
   "source": [
    "Extract data about \"Sport\" and \"Politicians\" from X "
   ]
  },
  {
   "cell_type": "code",
   "execution_count": 2,
   "metadata": {},
   "outputs": [],
   "source": [
    "from imports import *\n",
    "from config import *\n",
    "from functions import *"
   ]
  },
  {
   "cell_type": "code",
   "execution_count": 11,
   "metadata": {},
   "outputs": [],
   "source": [
    "df_tweets_futebol = pd.read_csv('df_tweets_futebol.csv')"
   ]
  },
  {
   "cell_type": "code",
   "execution_count": 12,
   "metadata": {},
   "outputs": [
    {
     "name": "stdout",
     "output_type": "stream",
     "text": [
      "             Tipo                                              Texto\n",
      "0       Principal                                           Adriano \n",
      "1     Relacionado                       Vai ser sempre o Imperador..\n",
      "2     Relacionado                              l Nem cavalo aguenta!\n",
      "3     Relacionado                                        L’empereur \n",
      "4     Relacionado                              What would have been?\n",
      "...           ...                                                ...\n",
      "1178  Relacionado                    Cai sabe dele é o Marcelo kkkkk\n",
      "1179  Relacionado  Bonito mesmo é Mano provocando na beira do cam...\n",
      "1180  Relacionado  Mano quis humilhar o Luiz falando que ele era ...\n",
      "1181  Relacionado  mano nao tem umas 3? foi tipo o gabigol queren...\n",
      "1182  Relacionado  Sou flamengo e digo, os dois estão errados. Ma...\n",
      "\n",
      "[1183 rows x 2 columns]\n"
     ]
    }
   ],
   "source": [
    "print(df_tweets_futebol)"
   ]
  },
  {
   "cell_type": "code",
   "execution_count": 13,
   "metadata": {},
   "outputs": [],
   "source": [
    "df_tweets_futebol_principal = df_tweets_futebol[df_tweets_futebol['Tipo'] == \"Principal\"]"
   ]
  },
  {
   "cell_type": "code",
   "execution_count": 14,
   "metadata": {},
   "outputs": [
    {
     "data": {
      "text/plain": [
       "Tipo     98\n",
       "Texto    98\n",
       "dtype: int64"
      ]
     },
     "execution_count": 14,
     "metadata": {},
     "output_type": "execute_result"
    }
   ],
   "source": [
    "df_tweets_futebol_principal.count()"
   ]
  }
 ],
 "metadata": {
  "kernelspec": {
   "display_name": ".venv",
   "language": "python",
   "name": "python3"
  },
  "language_info": {
   "codemirror_mode": {
    "name": "ipython",
    "version": 3
   },
   "file_extension": ".py",
   "mimetype": "text/x-python",
   "name": "python",
   "nbconvert_exporter": "python",
   "pygments_lexer": "ipython3",
   "version": "3.11.9"
  }
 },
 "nbformat": 4,
 "nbformat_minor": 2
}
