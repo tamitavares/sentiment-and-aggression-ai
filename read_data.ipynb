{
 "cells": [
  {
   "cell_type": "markdown",
   "metadata": {},
   "source": [
    "Extract data about \"Sport\", \"Politicians\" and \"Brand\" from X "
   ]
  },
  {
   "cell_type": "code",
   "execution_count": 2,
   "metadata": {},
   "outputs": [
    {
     "ename": "ModuleNotFoundError",
     "evalue": "No module named 'playwright'",
     "output_type": "error",
     "traceback": [
      "\u001b[1;31m---------------------------------------------------------------------------\u001b[0m",
      "\u001b[1;31mModuleNotFoundError\u001b[0m                       Traceback (most recent call last)",
      "Cell \u001b[1;32mIn[2], line 1\u001b[0m\n\u001b[1;32m----> 1\u001b[0m \u001b[38;5;28;01mfrom\u001b[39;00m \u001b[38;5;21;01mplaywright\u001b[39;00m\u001b[38;5;21;01m.\u001b[39;00m\u001b[38;5;21;01msync_api\u001b[39;00m \u001b[38;5;28;01mimport\u001b[39;00m sync_playwright\n\u001b[0;32m      2\u001b[0m \u001b[38;5;28;01mimport\u001b[39;00m \u001b[38;5;21;01mjson\u001b[39;00m\n\u001b[0;32m      4\u001b[0m \u001b[38;5;28;01mdef\u001b[39;00m \u001b[38;5;21mscrape_tweet\u001b[39m(url: \u001b[38;5;28mstr\u001b[39m) \u001b[38;5;241m-\u001b[39m\u001b[38;5;241m>\u001b[39m \u001b[38;5;28mdict\u001b[39m:\n",
      "\u001b[1;31mModuleNotFoundError\u001b[0m: No module named 'playwright'"
     ]
    }
   ],
   "source": [
    "from playwright.sync_api import sync_playwright\n",
    "import json\n",
    "\n",
    "def scrape_tweet(url: str) -> dict:\n",
    "    \"\"\"\n",
    "    Coleta dados de um tweet específico usando Playwright.\n",
    "    \"\"\"\n",
    "    _xhr_calls = []\n",
    "\n",
    "    def intercept_response(response):\n",
    "        \"\"\"Captura todas as solicitações de fundo.\"\"\"\n",
    "        if response.request.resource_type == \"xhr\":\n",
    "            _xhr_calls.append(response)\n",
    "        return response\n",
    "\n",
    "    with sync_playwright() as pw:\n",
    "        # Iniciar o navegador\n",
    "        browser = pw.chromium.launch(headless=False)\n",
    "        context = browser.new_context(viewport={\"width\": 1920, \"height\": 1080})\n",
    "        page = context.new_page()\n",
    "\n",
    "        # Habilitar a captura de solicitações de fundo\n",
    "        page.on(\"response\", intercept_response)\n",
    "\n",
    "        # Acessar a URL do tweet\n",
    "        page.goto(url)\n",
    "        page.wait_for_selector(\"[data-testid='tweet']\")\n",
    "\n",
    "        # Filtrar solicitações que contêm dados do tweet\n",
    "        tweet_calls = [f for f in _xhr_calls if \"TweetResultByRestId\" in f.url]\n",
    "        for xhr in tweet_calls:\n",
    "            data = xhr.json()\n",
    "            return data['data']['tweetResult']['result']\n",
    "\n",
    "if __name__ == \"__main__\":\n",
    "    url = \"https://twitter.com/Scrapfly_dev/status/1664267318053179398\"\n",
    "    tweet_data = scrape_tweet(url)\n",
    "    print(json.dumps(tweet_data, indent=2))"
   ]
  }
 ],
 "metadata": {
  "kernelspec": {
   "display_name": "base",
   "language": "python",
   "name": "python3"
  },
  "language_info": {
   "codemirror_mode": {
    "name": "ipython",
    "version": 3
   },
   "file_extension": ".py",
   "mimetype": "text/x-python",
   "name": "python",
   "nbconvert_exporter": "python",
   "pygments_lexer": "ipython3",
   "version": "3.12.4"
  }
 },
 "nbformat": 4,
 "nbformat_minor": 2
}
