{
 "cells": [
  {
   "cell_type": "markdown",
   "metadata": {},
   "source": [
    "Extract data about \"Sport\" and \"Politicians\" from X "
   ]
  },
  {
   "cell_type": "code",
   "execution_count": 40,
   "metadata": {},
   "outputs": [],
   "source": [
    "import pandas as pd"
   ]
  },
  {
   "cell_type": "code",
   "execution_count": 41,
   "metadata": {},
   "outputs": [],
   "source": [
    "df_tweets_futebol = pd.read_csv('df_tweets_futebol.csv')"
   ]
  },
  {
   "cell_type": "code",
   "execution_count": 42,
   "metadata": {},
   "outputs": [
    {
     "name": "stdout",
     "output_type": "stream",
     "text": [
      "            Tipo                                              Texto  Chave\n",
      "0      Principal   Uma verdadeira obra de arte, assinada pelo Kaká.      0\n",
      "1    Relacionado  En una misma jugada, Kakà despliega:\\n\\n- Técn...      0\n",
      "2    Relacionado                                         Perfeição!      0\n",
      "3    Relacionado                Um dos gols mais bonitos que já vi.      0\n",
      "4    Relacionado                              Um espetáculo de gol!      0\n",
      "..           ...                                                ...    ...\n",
      "165  Relacionado  Em sua apresentação no Internacional, Diego Ro...      9\n",
      "166  Relacionado                  A final da Copa do Mundo de 2006.      9\n",
      "167  Relacionado             リバプールキャプテン…\\nソン・フンミンに握手してもらえなくて\\nしょげる…      9\n",
      "168  Relacionado  Conteúdo patrocinado\\n\\nA Prefeitura de São Pa...      9\n",
      "169  Relacionado  XIIIIIIIIIIIIIIIIIIIUUUUUUUUUU PESSOAL\\n\\nVITO...      9\n",
      "\n",
      "[170 rows x 3 columns]\n"
     ]
    }
   ],
   "source": [
    "print(df_tweets_futebol)"
   ]
  },
  {
   "cell_type": "code",
   "execution_count": 43,
   "metadata": {},
   "outputs": [],
   "source": [
    "df_sem_duplicatas = df_tweets_futebol.drop_duplicates()"
   ]
  },
  {
   "cell_type": "code",
   "execution_count": 44,
   "metadata": {},
   "outputs": [
    {
     "data": {
      "text/plain": [
       "Tipo     169\n",
       "Texto    169\n",
       "Chave    169\n",
       "dtype: int64"
      ]
     },
     "execution_count": 44,
     "metadata": {},
     "output_type": "execute_result"
    }
   ],
   "source": [
    "df_sem_duplicatas.count()"
   ]
  },
  {
   "cell_type": "code",
   "execution_count": 45,
   "metadata": {},
   "outputs": [
    {
     "name": "stdout",
     "output_type": "stream",
     "text": [
      "            Tipo                                              Texto  Chave\n",
      "0      Principal   Uma verdadeira obra de arte, assinada pelo Kaká.      0\n",
      "1    Relacionado  En una misma jugada, Kakà despliega:\\n\\n- Técn...      0\n",
      "2    Relacionado                                         Perfeição!      0\n",
      "3    Relacionado                Um dos gols mais bonitos que já vi.      0\n",
      "4    Relacionado                              Um espetáculo de gol!      0\n",
      "..           ...                                                ...    ...\n",
      "165  Relacionado  Em sua apresentação no Internacional, Diego Ro...      9\n",
      "166  Relacionado                  A final da Copa do Mundo de 2006.      9\n",
      "167  Relacionado             リバプールキャプテン…\\nソン・フンミンに握手してもらえなくて\\nしょげる…      9\n",
      "168  Relacionado  Conteúdo patrocinado\\n\\nA Prefeitura de São Pa...      9\n",
      "169  Relacionado  XIIIIIIIIIIIIIIIIIIIUUUUUUUUUU PESSOAL\\n\\nVITO...      9\n",
      "\n",
      "[169 rows x 3 columns]\n"
     ]
    }
   ],
   "source": [
    "print(df_sem_duplicatas)"
   ]
  },
  {
   "cell_type": "code",
   "execution_count": 48,
   "metadata": {},
   "outputs": [],
   "source": [
    "df_sem_duplicatas.to_excel(\"dados_sem_duplicatas.xlsx\", index=False)"
   ]
  },
  {
   "cell_type": "code",
   "execution_count": 47,
   "metadata": {},
   "outputs": [],
   "source": [
    "# df_tweets_futebol.to_excel(\"df_tweets_futebol_excel.xlsx\", index=False)"
   ]
  }
 ],
 "metadata": {
  "kernelspec": {
   "display_name": ".venv",
   "language": "python",
   "name": "python3"
  },
  "language_info": {
   "codemirror_mode": {
    "name": "ipython",
    "version": 3
   },
   "file_extension": ".py",
   "mimetype": "text/x-python",
   "name": "python",
   "nbconvert_exporter": "python",
   "pygments_lexer": "ipython3",
   "version": "3.11.9"
  }
 },
 "nbformat": 4,
 "nbformat_minor": 2
}
